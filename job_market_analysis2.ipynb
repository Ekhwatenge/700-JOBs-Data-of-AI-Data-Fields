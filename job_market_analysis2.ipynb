import pandas as pd
import matplotlib.pyplot as plt
import seaborn as sns

def load_data(file_path):
    """Load the dataset and return DataFrame"""
    try:
        df = pd.read_csv(file_path)
        print(f"Dataset loaded successfully with shape: {df.shape}")
        return df
    except FileNotFoundError:
        print(f"Error: File {file_path} not found.")
        return None
    except Exception as e:
        print(f"Error loading data: {e}")
        return None

def explore_dataset_structure(df):
    """Explore the dataset structure to understand available columns"""
    print("\n" + "="*50)
    print("DATASET EXPLORATION")
    print("="*50)
    
    print(f"\nDataset Shape: {df.shape}")
    print(f"\nColumn Names:")
    for i, col in enumerate(df.columns, 1):
        print(f"{i:2d}. {col}")
    
    print(f"\nData Types:")
    print(df.dtypes)
    
    print(f"\nFirst few rows:")
    print(df.head())
    
    print(f"\nMissing values:")
    print(df.isnull().sum())
    
    return df.columns.tolist()

def summarize_data(df):
    """Summarize the data using available columns"""
    print("\n" + "="*50)
    print("DATA SUMMARY")
    print("="*50)
    
    # Check for rating column
    if 'rating' in df.columns:
        print("\nRating Statistics:")
        print(df['rating'].describe())
    else:
        print("\n'rating' column not found in dataset")
    
    # Look for job type related columns (common variations)
    job_type_columns = ['jobType', 'job_type', 'type', 'category', 'employment_type', 'employmentType']
    job_type_col = None
    
    for col in job_type_columns:
        if col in df.columns:
            job_type_col = col
            break
    
    if job_type_col:
        print(f"\n{job_type_col} Counts:")
        print(df[job_type_col].value_counts())
    else:
        print("\nNo job type column found. Available columns are:")
        print(df.columns.tolist())
    
    # Look for position/job title columns (common variations)
    position_columns = ['positionName', 'position_name', 'title', 'job_title', 'jobTitle', 'position']
    position_col = None
    
    for col in position_columns:
        if col in df.columns:
            position_col = col
            break
    
    if position_col:
        print(f"\nTop 10 {position_col}:")
        print(df[position_col].value_counts().head(10))
    else:
        print("\nNo position/title column found.")

def plot_top_locations(df):
    """Plot top locations if location data exists"""
    location_columns = ['location', 'city', 'state', 'country', 'headquarters']
    location_col = None
    
    for col in location_columns:
        if col in df.columns:
            location_col = col
            break
    
    if location_col and df[location_col].notna().sum() > 0:
        print(f"\nTop 10 {location_col}:")
        top_locations = df[location_col].value_counts().head(10)
        print(top_locations)
        
        # Uncomment below to create a plot
        # plt.figure(figsize=(12, 6))
        # top_locations.plot(kind='bar')
        # plt.title(f'Top 10 {location_col}')
        # plt.xticks(rotation=45)
        # plt.tight_layout()
        # plt.show()
    else:
        print(f"\nNo location column found or no location data available.")

def main():
    # Load data
    data_path = 'jobs_dataset.csv'
    
    df = load_data(data_path)
    if df is None:
        return
    
    # Explore dataset structure first
    available_columns = explore_dataset_structure(df)
    
    # Summarize data using available columns
    summarize_data(df)
    
    # Generate location analysis if possible
    plot_top_locations(df)
    
    print("\n" + "="*50)
    print("ANALYSIS COMPLETE")
    print("="*50)

if __name__ == '__main__':
    main()
