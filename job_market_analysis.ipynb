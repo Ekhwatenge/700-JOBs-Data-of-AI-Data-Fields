{
 "cells": [
  {
   "cell_type": "code",
   "execution_count": 28,
   "id": "fde109e4-2131-4a95-bec9-5cfe84185b80",
   "metadata": {},
   "outputs": [],
   "source": [
    "import pandas as pd\n",
    "import matplotlib.pyplot as plt\n",
    "import seaborn as sns"
   ]
  },
  {
   "cell_type": "code",
   "execution_count": 29,
   "id": "30cc7880-4a62-4f5d-88be-a265d6cd1480",
   "metadata": {},
   "outputs": [],
   "source": [
    "# Load dataset function\n",
    "def load_data(file_path):\n",
    "    #Loads the job market dataset CSV file into a Pandas DataFrame.  Args:file_path (str): Path to the dataset CSV file. Returns: pd.DataFrame: Loaded dataset.\"\n",
    "    df = pd.read_csv('Jupyter projects/700 JOBs Data of AI  and Data Fields/jobs_dataset.csv')\n",
    "    # Convert salary to numeric if available, handling missing or malformed entries\n",
    "    if 'Salary' in df.columns:\n",
    "        df['Salary'] = pd.to_numeric(df['Salary'], errors='coerce')\n",
    "    return df\n"
   ]
  },
  {
   "cell_type": "code",
   "execution_count": 30,
   "id": "a70a6eff-f240-4a3e-bbb0-d26736231281",
   "metadata": {},
   "outputs": [],
   "source": [
    "# Basic data overview and summary stats\n",
    "def summarize_data(df):\n",
    "    # Prints basic summaries of the dataset useful for initial exploration.Args: df (pd.DataFrame): The job market DataFrame.\n",
    "    print(\"Dataset Summary:\")\n",
    "    print(df.info())\n",
    "    print(\"\\nCompany Rating Stats:\")\n",
    "    print(df['Company Rating'].describe())\n",
    "    print(\"\\nJob Type Counts:\")\n",
    "    print(df['Job Type'].value_counts())\n",
    "    print(\"\\nSample Job Titles:\")\n",
    "    print(df['Position Name'].value_counts().head(10))"
   ]
  },
  {
   "cell_type": "code",
   "execution_count": 24,
   "id": "94896cb7-3250-46d9-9146-a5344b00d562",
   "metadata": {},
   "outputs": [],
   "source": [
    "# Visualize company ratings distribution\n",
    "def plot_company_rating_distribution(df):\n",
    "   # Plots histogram of Company Ratings. Args: df (pd.DataFrame): The job market DataFrame with 'Company Rating'. Output: Saves 'company_rating_distribution.png'\n",
    "    plt.figure(figsize=(8,6))\n",
    "    sns.histplot(df['Company Rating'].dropna(), bins=20, kde=True)\n",
    "    plt.title('Distribution of Company Ratings')\n",
    "    plt.xlabel('Rating')\n",
    "    plt.ylabel('Count')\n",
    "    plt.savefig('company_rating_distribution.png')\n",
    "    plt.close()\n"
   ]
  },
  {
   "cell_type": "code",
   "execution_count": 25,
   "id": "6b8df9c0-1b1b-4e63-bca4-e8f3d2a34fb4",
   "metadata": {},
   "outputs": [],
   "source": [
    "# Visualize job type frequency\n",
    "def plot_job_type_counts(df):\n",
    "    plt.figure(figsize=(8,6))\n",
    "    sns.countplot(y='Job Type', data=df, order=df['Job Type'].value_counts().index)\n",
    "    plt.title('Job Type Counts')\n",
    "    plt.xlabel('Number of Jobs')\n",
    "    plt.ylabel('Job Type')\n",
    "    plt.savefig('job_type_counts.png')\n",
    "    plt.close()"
   ]
  },
  {
   "cell_type": "code",
   "execution_count": 26,
   "id": "f02dadde-bba3-4970-a84b-e204d48b2fab",
   "metadata": {},
   "outputs": [],
   "source": [
    "# Visualize salary distribution (if available)\n",
    "def plot_salary_distribution(df):\n",
    "    plt.figure(figsize=(8,6))\n",
    "    sns.boxplot(x='Salary', data=df)\n",
    "    plt.title('Salary Distribution')\n",
    "    plt.xlabel('Salary')\n",
    "    plt.savefig('salary_distribution.png')\n",
    "    plt.close()"
   ]
  },
  {
   "cell_type": "code",
   "execution_count": 27,
   "id": "aed49f7b-8de3-4957-82b6-ab8a6fbc3ad9",
   "metadata": {},
   "outputs": [],
   "source": [
    "# Location heatmap of job positions (top locations only)\n",
    "def plot_top_locations(df, top_n=10):\n",
    "    top_locations = df['Location'].value_counts().head(top_n)\n",
    "    plt.figure(figsize=(10,6))\n",
    "    sns.barplot(y=top_locations.index, x=top_locations.values, orient='h')\n",
    "    plt.title(f'Top {top_n} Job Locations')\n",
    "    plt.xlabel('Number of Job Posts')\n",
    "    plt.ylabel('Location')\n",
    "    plt.savefig('top_locations.png')\n",
    "    plt.close()\n"
   ]
  },
  {
   "cell_type": "code",
   "execution_count": 13,
   "id": "01da350f-46b1-438f-a000-3d33f2b0024e",
   "metadata": {},
   "outputs": [
    {
     "ename": "NameError",
     "evalue": "name 'pd' is not defined",
     "output_type": "error",
     "traceback": [
      "\u001b[1;31m---------------------------------------------------------------------------\u001b[0m",
      "\u001b[1;31mNameError\u001b[0m                                 Traceback (most recent call last)",
      "Cell \u001b[1;32mIn[13], line 20\u001b[0m\n\u001b[0;32m     17\u001b[0m         plot_top_locations(df)\n\u001b[0;32m     19\u001b[0m \u001b[38;5;28;01mif\u001b[39;00m \u001b[38;5;18m__name__\u001b[39m \u001b[38;5;241m==\u001b[39m \u001b[38;5;124m'\u001b[39m\u001b[38;5;124m__main__\u001b[39m\u001b[38;5;124m'\u001b[39m:\n\u001b[1;32m---> 20\u001b[0m     main()\n",
      "Cell \u001b[1;32mIn[13], line 6\u001b[0m, in \u001b[0;36mmain\u001b[1;34m()\u001b[0m\n\u001b[0;32m      2\u001b[0m \u001b[38;5;28;01mdef\u001b[39;00m \u001b[38;5;21mmain\u001b[39m():\n\u001b[0;32m      3\u001b[0m     \u001b[38;5;66;03m# Update the path to your dataset CSV file here\u001b[39;00m\n\u001b[0;32m      4\u001b[0m     data_path \u001b[38;5;241m=\u001b[39m \u001b[38;5;124m'\u001b[39m\u001b[38;5;124mJupyter projects/700 JOBs Data of AI  and Data Fields/jobs_dataset.csv\u001b[39m\u001b[38;5;124m'\u001b[39m\n\u001b[1;32m----> 6\u001b[0m     df \u001b[38;5;241m=\u001b[39m load_data(data_path)\n\u001b[0;32m      7\u001b[0m     summarize_data(df)\n\u001b[0;32m      9\u001b[0m     \u001b[38;5;66;03m# Generate required charts\u001b[39;00m\n",
      "Cell \u001b[1;32mIn[7], line 4\u001b[0m, in \u001b[0;36mload_data\u001b[1;34m(file_path)\u001b[0m\n\u001b[0;32m      2\u001b[0m \u001b[38;5;28;01mdef\u001b[39;00m \u001b[38;5;21mload_data\u001b[39m(file_path):\n\u001b[0;32m      3\u001b[0m     \u001b[38;5;66;03m#Loads the job market dataset CSV file into a Pandas DataFrame.  Args:file_path (str): Path to the dataset CSV file. Returns: pd.DataFrame: Loaded dataset.\"\u001b[39;00m\n\u001b[1;32m----> 4\u001b[0m     df \u001b[38;5;241m=\u001b[39m pd\u001b[38;5;241m.\u001b[39mread_csv(\u001b[38;5;124m'\u001b[39m\u001b[38;5;124mJupyter projects/700 JOBs Data of AI  and Data Fields/jobs_dataset.csv\u001b[39m\u001b[38;5;124m'\u001b[39m)\n\u001b[0;32m      5\u001b[0m     \u001b[38;5;66;03m# Convert salary to numeric if available, handling missing or malformed entries\u001b[39;00m\n\u001b[0;32m      6\u001b[0m     \u001b[38;5;28;01mif\u001b[39;00m \u001b[38;5;124m'\u001b[39m\u001b[38;5;124mSalary\u001b[39m\u001b[38;5;124m'\u001b[39m \u001b[38;5;129;01min\u001b[39;00m df\u001b[38;5;241m.\u001b[39mcolumns:\n",
      "\u001b[1;31mNameError\u001b[0m: name 'pd' is not defined"
     ]
    }
   ],
   "source": [
    "# Main analysis function\n",
    "def main():\n",
    "    # Update the path to your dataset CSV file here\n",
    "    data_path = 'Jupyter projects/700 JOBs Data of AI  and Data Fields/jobs_dataset.csv'\n",
    "    \n",
    "    df = load_data(data_path)\n",
    "    summarize_data(df)\n",
    "    \n",
    "    # Generate required charts\n",
    "    if 'Company Rating' in df.columns:\n",
    "        plot_company_rating_distribution(df)\n",
    "    if 'Job Type' in df.columns:\n",
    "        plot_job_type_counts(df)\n",
    "    if 'Salary' in df.columns:\n",
    "        plot_salary_distribution(df)\n",
    "    if 'Location' in df.columns:\n",
    "        plot_top_locations(df)\n",
    "\n",
    "if __name__ == '__main__':\n",
    "    main()"
   ]
  },
  {
   "cell_type": "code",
   "execution_count": null,
   "id": "abb5229b-4f9b-4bd1-b4e7-ed5f61ed194c",
   "metadata": {},
   "outputs": [],
   "source": []
  },
  {
   "cell_type": "code",
   "execution_count": null,
   "id": "927558bb-edfa-48c5-ad40-19b090b4101b",
   "metadata": {},
   "outputs": [],
   "source": []
  }
 ],
 "metadata": {
  "kernelspec": {
   "display_name": "Python 3 (ipykernel)",
   "language": "python",
   "name": "python3"
  },
  "language_info": {
   "codemirror_mode": {
    "name": "ipython",
    "version": 3
   },
   "file_extension": ".py",
   "mimetype": "text/x-python",
   "name": "python",
   "nbconvert_exporter": "python",
   "pygments_lexer": "ipython3",
   "version": "3.11.7"
  }
 },
 "nbformat": 4,
 "nbformat_minor": 5
}
