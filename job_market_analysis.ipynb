import pandas as pd
import matplotlib.pyplot as plt
import seaborn as sns
import numpy as np

# Load your dataset
df = pd.read_csv('jobs_dataset.csv')

print("Your dataset has the following columns:")
for i, col in enumerate(df.columns, 1):
    print(f"{i:2d}. '{col}'")

print(f"\nDataset shape: {df.shape}")
print(f"\nFirst few rows:")
print(df.head())

        print(f"Dataset loaded successfully with shape: {df.shape}")
        return df
    except FileNotFoundError:
        print(f"Error: File {file_path} not found.")
        return None
    except Exception as e:
        print(f"Error loading data: {e}")
        return None

def explore_dataset_structure(df):
    """Explore the dataset structure to understand available columns"""
    print("\n" + "="*50)
    print("DATASET EXPLORATION")
    print("="*50)
    
    print(f"\nDataset Shape: {df.shape}")
    print(f"\nColumn Names:")
    for i, col in enumerate(df.columns, 1):
        print(f"{i:2d}. {col}")
    
    print(f"\nData Types:")
    print(df.dtypes)
    
    print(f"\nFirst few rows:")
    print(df.head())
    
    print(f"\nMissing values:")
    print(df.isnull().sum())
    
    return df.columns.tolist()

def summarize_data(df):
    """Summarize the data using available columns"""
    print("\n" + "="*50)
    print("DATA SUMMARY")
    print("="*50)
    
    # Check for rating column
    if 'rating' in df.columns:
        print("\nRating Statistics:")
        print(df['rating'].describe())
    else:
        print("\n'rating' column not found in dataset")
    
    # Look for job type related columns (common variations)
    job_type_columns = ['jobType', 'job_type', 'type', 'category', 'employment_type', 'employmentType']
    job_type_col = None
    
    for col in job_type_columns:
        if col in df.columns:
            job_type_col = col
            break
    
    if job_type_col:
        print(f"\n{job_type_col} Counts:")
        print(df[job_type_col].value_counts())
    else:
        print("\nNo job type column found. Available columns are:")
        print(df.columns.tolist())
    
    # Look for position/job title columns (common variations)
    position_columns = ['positionName', 'position_name', 'title', 'job_title', 'jobTitle', 'position']
    position_col = None
    
    for col in position_columns:
        if col in df.columns:
            position_col = col
            break
    
    if position_col:
        print(f"\nTop 10 {position_col}:")
        print(df[position_col].value_counts().head(10))
    else:
        print("\nNo position/title column found.")

def plot_top_locations(df):
    """Plot top locations if location data exists"""
    location_columns = ['location', 'city', 'state', 'country', 'headquarters']
    location_col = None
    
    for col in location_columns:
        if col in df.columns:
            location_col = col
            break
    
    if location_col and df[location_col].notna().sum() > 0:
        print(f"\nTop 10 {location_col}:")
        top_locations = df[location_col].value_counts().head(10)
        print(top_locations)
        
        # Uncomment below to create a plot
        # plt.figure(figsize=(12, 6))
        # top_locations.plot(kind='bar')
        # plt.title(f'Top 10 {location_col}')
        # plt.xticks(rotation=45)
        # plt.tight_layout()
        # plt.show()
    else:
        print(f"\nNo location column found or no location data available.")

def main():
    # Load data
    data_path = 'jobs_dataset.csv'
    
    df = load_data(data_path)
    if df is None:
        return
    
    # Explore dataset structure first
    available_columns = explore_dataset_structure(df)
    
    # Summarize data using available columns
    summarize_data(df)
    
    # Generate location analysis if possible
    plot_top_locations(df)
    
    print("\n" + "="*50)
    print("ANALYSIS COMPLETE")
    print("="*50)

if __name__ == '__main__':
    main()


#a dashboard
# Set style
plt.style.use('default')
sns.set_palette("Set2")

# Create dashboard
fig, axes = plt.subplots(2, 3, figsize=(18, 12))
fig.suptitle('Job Dataset Analysis Dashboard', fontsize=20, fontweight='bold')

# Chart 1: Job Type Distribution
job_type_cols = ['jobType', 'job_type', 'type', 'category', 'employment_type']
job_type_col = next((col for col in job_type_cols if col in df.columns), None)

if job_type_col:
    job_counts = df[job_type_col].value_counts().head(6)
    axes[0,0].pie(job_counts.values, labels=job_counts.index, autopct='%1.1f%%')
    axes[0,0].set_title(f'{job_type_col} Distribution')
else:
    axes[0,0].text(0.5, 0.5, 'No job type\ncolumn found', ha='center', va='center')
    axes[0,0].set_title('Job Type Distribution')

# Chart 2: Top Companies
company_cols = ['company', 'companyName', 'company_name', 'employer']
company_col = next((col for col in company_cols if col in df.columns), None)

if company_col:
    top_companies = df[company_col].value_counts().head(8)
    axes[0,1].barh(range(len(top_companies)), top_companies.values)
    axes[0,1].set_yticks(range(len(top_companies)))
    axes[0,1].set_yticklabels(top_companies.index)
    axes[0,1].invert_yaxis()
    axes[0,1].set_title('Top Companies')
else:
    axes[0,1].text(0.5, 0.5, 'No company\ncolumn found', ha='center', va='center')
    axes[0,1].set_title('Top Companies')

# Chart 3: Location Distribution
location_cols = ['location', 'city', 'state', 'country']
location_col = next((col for col in location_cols if col in df.columns), None)

if location_col:
    top_locations = df[location_col].value_counts().head(8)
    axes[0,2].bar(range(len(top_locations)), top_locations.values)
    axes[0,2].set_xticks(range(len(top_locations)))
    axes[0,2].set_xticklabels(top_locations.index, rotation=45, ha='right')
    axes[0,2].set_title('Top Locations')
else:
    axes[0,2].text(0.5, 0.5, 'No location\ncolumn found', ha='center', va='center')
    axes[0,2].set_title('Top Locations')

# Chart 4: Rating Distribution
if 'rating' in df.columns:
    axes[1,0].hist(df['rating'].dropna(), bins=15, alpha=0.7, edgecolor='black')
    axes[1,0].axvline(df['rating'].mean(), color='red', linestyle='--')
    axes[1,0].set_title('Rating Distribution')
    axes[1,0].set_xlabel('Rating')
else:
    axes[1,0].text(0.5, 0.5, 'No rating\ncolumn found', ha='center', va='center')
    axes[1,0].set_title('Rating Distribution')

# Chart 5: Top Job Titles
position_cols = ['positionName', 'position_name', 'title', 'job_title', 'jobTitle']
position_col = next((col for col in position_cols if col in df.columns), None)

if position_col:
    top_positions = df[position_col].value_counts().head(8)
    axes[1,1].barh(range(len(top_positions)), top_positions.values)
    axes[1,1].set_yticks(range(len(top_positions)))
    axes[1,1].set_yticklabels(top_positions.index)
    axes[1,1].invert_yaxis()
    axes[1,1].set_title('Top Job Titles')
else:
    axes[1,1].text(0.5, 0.5, 'No job title\ncolumn found', ha='center', va='center')
    axes[1,1].set_title('Top Job Titles')

# Chart 6: Dataset Summary
numeric_cols = df.select_dtypes(include=[np.number]).columns
axes[1,2].text(0.1, 0.8, f'Dataset Info:', fontweight='bold', transform=axes[1,2].transAxes)
axes[1,2].text(0.1, 0.6, f'Rows: {len(df):,}', transform=axes[1,2].transAxes)
axes[1,2].text(0.1, 0.4, f'Columns: {len(df.columns)}', transform=axes[1,2].transAxes)
axes[1,2].text(0.1, 0.2, f'Numeric cols: {len(numeric_cols)}', transform=axes[1,2].transAxes)
axes[1,2].set_title('Dataset Summary')
axes[1,2].axis('off')

plt.tight_layout()
plt.show()

print("Dashboard created successfully!")
